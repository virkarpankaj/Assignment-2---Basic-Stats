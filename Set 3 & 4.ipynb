{
 "cells": [
  {
   "cell_type": "code",
   "execution_count": 1,
   "id": "99145d3d",
   "metadata": {},
   "outputs": [],
   "source": [
    "from scipy import stats\n",
    "import numpy as np"
   ]
  },
  {
   "cell_type": "markdown",
   "id": "0320e38d",
   "metadata": {},
   "source": [
    "## Set 3\n"
   ]
  },
  {
   "cell_type": "code",
   "execution_count": null,
   "id": "4e2763b6",
   "metadata": {},
   "outputs": [],
   "source": [
    "''' Q 5 - \n",
    "n = 2000, \n",
    "H0 :  market_share >= 0.05\n",
    "Ha :  market_share < 0.05\n",
    "X=0.046\n",
    "\n",
    "(0.046 - 0.05)/sqrt(0.05*(1-0.05)/2000) should be <= Z \n",
    "\n",
    "* std dev of binomial distribution when sampling from n --- sqrt (p*(1-p)/n) --CLT\n",
    "z for 95 % CI =+/-1.96\n",
    "\n",
    "'''"
   ]
  },
  {
   "cell_type": "code",
   "execution_count": 2,
   "id": "88ea34c8",
   "metadata": {},
   "outputs": [],
   "source": [
    "z_score = (0.046-0.05)/np.sqrt(0.05*(1-0.05)/2000)"
   ]
  },
  {
   "cell_type": "code",
   "execution_count": 3,
   "id": "35796f4f",
   "metadata": {},
   "outputs": [
    {
     "data": {
      "text/plain": [
       "-0.821"
      ]
     },
     "execution_count": 3,
     "metadata": {},
     "output_type": "execute_result"
    }
   ],
   "source": [
    "np.round(z_score,3)"
   ]
  },
  {
   "cell_type": "code",
   "execution_count": null,
   "id": "4064ccf1",
   "metadata": {},
   "outputs": [],
   "source": [
    "# this value is well with z score for 95 % CI value of +/- 1.96 - hence we cant reject the null Hypothesis"
   ]
  },
  {
   "cell_type": "code",
   "execution_count": 4,
   "id": "c57875dd",
   "metadata": {},
   "outputs": [
    {
     "data": {
      "text/plain": [
       "0.20588503245107104"
      ]
     },
     "execution_count": 4,
     "metadata": {},
     "output_type": "execute_result"
    }
   ],
   "source": [
    "p_value = 1-stats.norm.cdf(abs(z_score))\n",
    "p_value"
   ]
  },
  {
   "cell_type": "code",
   "execution_count": null,
   "id": "1f3c7af0",
   "metadata": {},
   "outputs": [],
   "source": [
    "''' significance level = 5%\n",
    "\n",
    "since p_value > significance level\n",
    "\n",
    "we can't reject the null Hypothesis\n",
    "\n",
    "so we accept H0 i.e. Mozilla has market share greater than 5%\n",
    "\n",
    "'''"
   ]
  },
  {
   "cell_type": "code",
   "execution_count": null,
   "id": "29ac58ee",
   "metadata": {},
   "outputs": [],
   "source": []
  },
  {
   "cell_type": "markdown",
   "id": "5a0b85db",
   "metadata": {},
   "source": [
    "## Set 4 "
   ]
  },
  {
   "cell_type": "code",
   "execution_count": 5,
   "id": "836a0a47",
   "metadata": {},
   "outputs": [
    {
     "name": "stdout",
     "output_type": "stream",
     "text": [
      "the probability that in any given week, there will be an investigation is- 21.13 %\n"
     ]
    }
   ],
   "source": [
    "# q-3 \n",
    "\n",
    "p = 1-stats.norm.cdf(55,50,4)+ stats.norm.cdf(45,50,4)\n",
    "\n",
    "print('the probability that in any given week, there will be an investigation is-', np.round(p*100,3) , '%')"
   ]
  },
  {
   "cell_type": "code",
   "execution_count": null,
   "id": "bd8d5099",
   "metadata": {},
   "outputs": [],
   "source": []
  },
  {
   "cell_type": "code",
   "execution_count": 6,
   "id": "954c7b39",
   "metadata": {},
   "outputs": [
    {
     "data": {
      "text/plain": [
       "245.85336452442414"
      ]
     },
     "execution_count": 6,
     "metadata": {},
     "output_type": "execute_result"
    }
   ],
   "source": [
    "# q-4 \n",
    "\n",
    "z = stats.norm.ppf(0.025)\n",
    "\n",
    "n = (z * 40/(55-50))**2\n",
    "n"
   ]
  },
  {
   "cell_type": "code",
   "execution_count": null,
   "id": "da3a9f75",
   "metadata": {},
   "outputs": [],
   "source": []
  }
 ],
 "metadata": {
  "kernelspec": {
   "display_name": "Python 3",
   "language": "python",
   "name": "python3"
  },
  "language_info": {
   "codemirror_mode": {
    "name": "ipython",
    "version": 3
   },
   "file_extension": ".py",
   "mimetype": "text/x-python",
   "name": "python",
   "nbconvert_exporter": "python",
   "pygments_lexer": "ipython3",
   "version": "3.8.8"
  },
  "varInspector": {
   "cols": {
    "lenName": 16,
    "lenType": 16,
    "lenVar": 40
   },
   "kernels_config": {
    "python": {
     "delete_cmd_postfix": "",
     "delete_cmd_prefix": "del ",
     "library": "var_list.py",
     "varRefreshCmd": "print(var_dic_list())"
    },
    "r": {
     "delete_cmd_postfix": ") ",
     "delete_cmd_prefix": "rm(",
     "library": "var_list.r",
     "varRefreshCmd": "cat(var_dic_list()) "
    }
   },
   "types_to_exclude": [
    "module",
    "function",
    "builtin_function_or_method",
    "instance",
    "_Feature"
   ],
   "window_display": false
  }
 },
 "nbformat": 4,
 "nbformat_minor": 5
}
