{
 "cells": [
  {
   "cell_type": "code",
   "execution_count": 1,
   "id": "0298762f",
   "metadata": {},
   "outputs": [],
   "source": [
    "import pandas as pd\n",
    "import numpy as np\n",
    "import matplotlib.pyplot as plt\n",
    "import seaborn as sns\n",
    "from scipy import stats"
   ]
  },
  {
   "cell_type": "code",
   "execution_count": 2,
   "id": "99a5c5a2",
   "metadata": {},
   "outputs": [
    {
     "data": {
      "text/plain": [
       "0.26598552904870054"
      ]
     },
     "execution_count": 2,
     "metadata": {},
     "output_type": "execute_result"
    }
   ],
   "source": [
    "### Q1 Ans\n",
    "1-stats.norm.cdf(60,55,8)"
   ]
  },
  {
   "cell_type": "code",
   "execution_count": null,
   "id": "b88f6522",
   "metadata": {},
   "outputs": [],
   "source": [
    "### Q2A Ans"
   ]
  },
  {
   "cell_type": "code",
   "execution_count": 3,
   "id": "10baa00c",
   "metadata": {},
   "outputs": [
    {
     "name": "stdout",
     "output_type": "stream",
     "text": [
      "Probability of employees at the processing center are older than 44 is = 15.865525393145708 %\n"
     ]
    }
   ],
   "source": [
    "#employees at the processing center are older than 44 \n",
    "\n",
    "P= 1-stats.norm.cdf(44,38,6)\n",
    "\n",
    "print('Probability of employees at the processing center are older than 44 is =', P*100,\"%\")"
   ]
  },
  {
   "cell_type": "code",
   "execution_count": 4,
   "id": "6ae8a1a9",
   "metadata": {},
   "outputs": [
    {
     "name": "stdout",
     "output_type": "stream",
     "text": [
      "Probability of employees at the processing center between 38 and 44 is = 34.13447460685429 %\n"
     ]
    }
   ],
   "source": [
    "#employees at the processing center are older than 44 \n",
    "\n",
    "P= stats.norm.cdf(44,38,6)-stats.norm.cdf(38,38,6)\n",
    "\n",
    "print('Probability of employees at the processing center between 38 and 44 is =',P*100,\"%\")"
   ]
  },
  {
   "cell_type": "code",
   "execution_count": null,
   "id": "fe4f6598",
   "metadata": {},
   "outputs": [],
   "source": [
    "# since the (P>44) is < (38<P<44) it is False."
   ]
  },
  {
   "cell_type": "code",
   "execution_count": null,
   "id": "d895491a",
   "metadata": {},
   "outputs": [],
   "source": [
    "### Q2B Ans"
   ]
  },
  {
   "cell_type": "code",
   "execution_count": 5,
   "id": "61b5ce3c",
   "metadata": {},
   "outputs": [
    {
     "name": "stdout",
     "output_type": "stream",
     "text": [
      "36.484487890347154\n"
     ]
    }
   ],
   "source": [
    "# no of employees less than 30 age\n",
    "P=stats.norm.cdf(30,38,6)\n",
    "no_of_employees= P*400\n",
    "print(no_of_employees)"
   ]
  },
  {
   "cell_type": "code",
   "execution_count": null,
   "id": "c14a0a5c",
   "metadata": {},
   "outputs": [],
   "source": [
    "#hence training program for employees<age of 30 at the center would be expected to attract about 36 employees is TRUE"
   ]
  },
  {
   "cell_type": "code",
   "execution_count": 6,
   "id": "8006faf1",
   "metadata": {},
   "outputs": [
    {
     "name": "stdout",
     "output_type": "stream",
     "text": [
      "values of  a and b symmetric about the mean about CI OF 99% are (48.48341392902199, 151.516586070978)\n"
     ]
    }
   ],
   "source": [
    "### Q4\n",
    "\n",
    "values=stats.norm.interval(0.99,100,20)\n",
    "print('values of  a and b symmetric about the mean about CI OF 99% are',values)"
   ]
  },
  {
   "cell_type": "code",
   "execution_count": null,
   "id": "a9c0fe58",
   "metadata": {},
   "outputs": [],
   "source": [
    "## Q5"
   ]
  },
  {
   "cell_type": "code",
   "execution_count": 7,
   "id": "a8c1583e",
   "metadata": {},
   "outputs": [
    {
     "name": "stdout",
     "output_type": "stream",
     "text": [
      "Range is Rs (99.00810347848784, 980.9918965215122) in Millions\n"
     ]
    }
   ],
   "source": [
    "#Q5A-Specify a Rupee range (centered on the mean) such that it contains 95% probability for the annual profit of the company.\n",
    "\n",
    "print('Range is Rs',stats.norm.interval(0.95,540,225), 'in Millions')"
   ]
  },
  {
   "cell_type": "code",
   "execution_count": 8,
   "id": "cad08995",
   "metadata": {},
   "outputs": [
    {
     "name": "stdout",
     "output_type": "stream",
     "text": [
      " 5th percentile of profit (in Rupees) for the company 169.88\n"
     ]
    }
   ],
   "source": [
    "#Q5B Specify the 5th percentile of profit (in Rupees) for the company-\n",
    "# Z score for 5% percentile = -1.645\n",
    "x= 540+(-1.645)*(225)\n",
    "print(' 5th percentile of profit (in Rupees) for the company',np.round(x,2))"
   ]
  },
  {
   "cell_type": "code",
   "execution_count": null,
   "id": "67556764",
   "metadata": {},
   "outputs": [],
   "source": [
    "# Q5C. Which of the two divisions has a larger probability of making a loss in a given year?"
   ]
  },
  {
   "cell_type": "code",
   "execution_count": 9,
   "id": "952d7c9b",
   "metadata": {},
   "outputs": [
    {
     "name": "stdout",
     "output_type": "stream",
     "text": [
      " Probability of making loss by Div1 =  4.7790352272814705 %\n"
     ]
    }
   ],
   "source": [
    "# for Div 1 - Probability of making loss \n",
    "p=stats.norm.cdf(0,225,135)\n",
    "\n",
    "print(' Probability of making loss by Div1 = ', p*100,'%')"
   ]
  },
  {
   "cell_type": "code",
   "execution_count": 10,
   "id": "47b9b410",
   "metadata": {},
   "outputs": [
    {
     "name": "stdout",
     "output_type": "stream",
     "text": [
      " Probability of making loss by Div2 =  4.005915686381709 %\n"
     ]
    }
   ],
   "source": [
    "# for Div 2 - Probability of making loss \n",
    "p=stats.norm.cdf(0,315,180)\n",
    "\n",
    "print(' Probability of making loss by Div2 = ', p*100,'%')"
   ]
  },
  {
   "cell_type": "code",
   "execution_count": null,
   "id": "e91c35a2",
   "metadata": {},
   "outputs": [],
   "source": [
    "#Probability of making loss by Div1 > Div2 "
   ]
  },
  {
   "cell_type": "code",
   "execution_count": null,
   "id": "eb5050ff",
   "metadata": {},
   "outputs": [],
   "source": []
  },
  {
   "cell_type": "code",
   "execution_count": null,
   "id": "1b23f6d1",
   "metadata": {},
   "outputs": [],
   "source": []
  }
 ],
 "metadata": {
  "kernelspec": {
   "display_name": "Python 3",
   "language": "python",
   "name": "python3"
  },
  "language_info": {
   "codemirror_mode": {
    "name": "ipython",
    "version": 3
   },
   "file_extension": ".py",
   "mimetype": "text/x-python",
   "name": "python",
   "nbconvert_exporter": "python",
   "pygments_lexer": "ipython3",
   "version": "3.8.8"
  },
  "varInspector": {
   "cols": {
    "lenName": 16,
    "lenType": 16,
    "lenVar": 40
   },
   "kernels_config": {
    "python": {
     "delete_cmd_postfix": "",
     "delete_cmd_prefix": "del ",
     "library": "var_list.py",
     "varRefreshCmd": "print(var_dic_list())"
    },
    "r": {
     "delete_cmd_postfix": ") ",
     "delete_cmd_prefix": "rm(",
     "library": "var_list.r",
     "varRefreshCmd": "cat(var_dic_list()) "
    }
   },
   "types_to_exclude": [
    "module",
    "function",
    "builtin_function_or_method",
    "instance",
    "_Feature"
   ],
   "window_display": false
  }
 },
 "nbformat": 4,
 "nbformat_minor": 5
}
